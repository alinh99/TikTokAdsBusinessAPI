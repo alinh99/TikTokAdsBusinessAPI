{
 "cells": [
  {
   "cell_type": "code",
   "execution_count": 1,
   "metadata": {},
   "outputs": [],
   "source": [
    "import json\n",
    "import os\n",
    "import pandas as pd\n",
    "from utils import get_auth_code, get_access_token\n",
    "import business_api_client\n",
    "import json\n",
    "import pandas as pd\n",
    "import requests\n",
    "from constants import URL_ADVERTISER_IDS, URL_ADVERTISER_INFO\n",
    "from datetime import date, timedelta\n",
    "from dotenv import load_dotenv"
   ]
  },
  {
   "cell_type": "markdown",
   "metadata": {},
   "source": [
    "# 0 - Load env for TikTok Business API"
   ]
  },
  {
   "cell_type": "code",
   "execution_count": 2,
   "metadata": {},
   "outputs": [],
   "source": [
    "load_dotenv()\n",
    "\n",
    "redirect_uri = os.environ.get(\"REDIRECT_URI\", \"\")\n",
    "app_id = os.environ.get(\"APP_ID\", \"\")\n",
    "secret = os.environ.get(\"SECRET\", \"\")\n",
    "bc_id = os.environ.get(\"BC_ID\", \"\")"
   ]
  },
  {
   "cell_type": "markdown",
   "metadata": {},
   "source": [
    "# Get auth code"
   ]
  },
  {
   "cell_type": "code",
   "execution_count": 3,
   "metadata": {},
   "outputs": [],
   "source": [
    "authorize_url = \"https://business-api.tiktok.com/portal/auth\""
   ]
  },
  {
   "cell_type": "code",
   "execution_count": 4,
   "metadata": {},
   "outputs": [
    {
     "name": "stdout",
     "output_type": "stream",
     "text": [
      "Generating authorization URL...\n",
      "URL: https://business-api.tiktok.com/portal/auth?app_id=7332410169608896514&response_type=code&redirect_uri=https%3A%2F%2Fwww.paloceras.com&state=193e2aee2e5a7615afe8cdf3b7010156\n",
      "State: 193e2aee2e5a7615afe8cdf3b7010156\n",
      "Paste the URL you were redirected to\n"
     ]
    }
   ],
   "source": [
    "auth_code = get_auth_code(app_id, redirect_uri, authorize_url)"
   ]
  },
  {
   "cell_type": "markdown",
   "metadata": {},
   "source": [
    "# Get access token"
   ]
  },
  {
   "cell_type": "code",
   "execution_count": 7,
   "metadata": {},
   "outputs": [],
   "source": [
    "access_token_url = (\n",
    "    \"https://business-api.tiktok.com/open_api/v1.3/oauth2/access_token/\"\n",
    ")\n"
   ]
  },
  {
   "cell_type": "code",
   "execution_count": 8,
   "metadata": {},
   "outputs": [
    {
     "data": {
      "text/plain": [
       "'b2ab0cf5687a998933f1e357a5ed3cc884ef64b5'"
      ]
     },
     "execution_count": 8,
     "metadata": {},
     "output_type": "execute_result"
    }
   ],
   "source": [
    "my_args = '{\"secret\": \"%s\", \"app_id\": \"%s\", \"auth_code\": \"%s\"}' % (\n",
    "    secret,\n",
    "    app_id,\n",
    "    auth_code,\n",
    ")\n",
    "\n",
    "access_token = get_access_token(my_args, access_token_url)[\"data\"][\"access_token\"]\n",
    "access_token"
   ]
  },
  {
   "cell_type": "code",
   "execution_count": 9,
   "metadata": {},
   "outputs": [
    {
     "data": {
      "text/html": [
       "<div>\n",
       "<style scoped>\n",
       "    .dataframe tbody tr th:only-of-type {\n",
       "        vertical-align: middle;\n",
       "    }\n",
       "\n",
       "    .dataframe tbody tr th {\n",
       "        vertical-align: top;\n",
       "    }\n",
       "\n",
       "    .dataframe thead th {\n",
       "        text-align: right;\n",
       "    }\n",
       "</style>\n",
       "<table border=\"1\" class=\"dataframe\">\n",
       "  <thead>\n",
       "    <tr style=\"text-align: right;\">\n",
       "      <th></th>\n",
       "      <th>Account_Name</th>\n",
       "      <th>Account_ID</th>\n",
       "      <th>Clicks</th>\n",
       "      <th>Impression</th>\n",
       "      <th>Cost</th>\n",
       "      <th>Reach</th>\n",
       "      <th>CPC</th>\n",
       "      <th>CPM</th>\n",
       "      <th>CTR</th>\n",
       "      <th>Conversion</th>\n",
       "      <th>CPA</th>\n",
       "    </tr>\n",
       "  </thead>\n",
       "  <tbody>\n",
       "    <tr>\n",
       "      <th>0</th>\n",
       "      <td>Test Account Vjppr0</td>\n",
       "      <td>7332700118070116354</td>\n",
       "      <td>0</td>\n",
       "      <td>0</td>\n",
       "      <td>0</td>\n",
       "      <td>0</td>\n",
       "      <td>0</td>\n",
       "      <td>0</td>\n",
       "      <td>0</td>\n",
       "      <td>0</td>\n",
       "      <td>0</td>\n",
       "    </tr>\n",
       "  </tbody>\n",
       "</table>\n",
       "</div>"
      ],
      "text/plain": [
       "          Account_Name           Account_ID  Clicks  Impression  Cost  Reach  \\\n",
       "0  Test Account Vjppr0  7332700118070116354       0           0     0      0   \n",
       "\n",
       "   CPC  CPM  CTR  Conversion  CPA  \n",
       "0    0    0    0           0    0  "
      ]
     },
     "execution_count": 9,
     "metadata": {},
     "output_type": "execute_result"
    }
   ],
   "source": [
    "response_advertiser_ids = requests.get(\n",
    "    url=URL_ADVERTISER_IDS,\n",
    "    headers={\"Access-Token\": access_token},\n",
    "    params={\"app_id\": app_id, \"secret\": secret},\n",
    ")\n",
    "\n",
    "api_report = business_api_client.ReportingApi()\n",
    "\n",
    "advertiser_ids = response_advertiser_ids.json()[\"data\"][\"list\"]\n",
    "\n",
    "ad_ids = []\n",
    "for advertiser in advertiser_ids:\n",
    "    advertiser_id = advertiser[\"advertiser_id\"]\n",
    "    ad_ids.append(advertiser_id)\n",
    "\n",
    "response_advertiser_info = requests.get(\n",
    "    url=URL_ADVERTISER_INFO,\n",
    "    headers={\"Access-Token\": access_token},\n",
    "    params={\"advertiser_ids\": json.dumps(ad_ids)},\n",
    ")\n",
    "response_advertiser_info = response_advertiser_info.json()[\"data\"][\"list\"]\n",
    "\n",
    "date_from = date.today().replace(day=1)\n",
    "date_to = (date_from + timedelta(days=32)).replace(day=1) - timedelta(days=1)\n",
    "metrics = [\n",
    "    \"spend\",\n",
    "    \"clicks\",\n",
    "    \"impressions\",\n",
    "    \"cost_per_result\",\n",
    "    \"reach\",\n",
    "    \"cpc\",  # cost_per_result: Cost\n",
    "    \"cpm\",\n",
    "    \"ctr\",\n",
    "    \"conversion\",\n",
    "    \"cost_per_conversion\",  # cost_per_conversion: CPA\n",
    "]\n",
    "\n",
    "for advertiser_id in ad_ids:\n",
    "    api_report_responses = api_report.report_integrated_get(\n",
    "        advertiser_id=advertiser_id,\n",
    "        report_type=\"BASIC\",\n",
    "        access_token=access_token,\n",
    "        dimensions=[\"ad_id\"],\n",
    "        data_level=\"AUCTION_AD\",\n",
    "        metrics=metrics,\n",
    "        start_date=date_from,\n",
    "        end_date=date_to,\n",
    "    )\n",
    "\n",
    "    for advertiser in response_advertiser_info:\n",
    "        if (\n",
    "            \"owner_bc_id\" in advertiser\n",
    "            and advertiser[\"owner_bc_id\"] == bc_id\n",
    "            and advertiser[\"advertiser_id\"] == advertiser_id\n",
    "        ):\n",
    "\n",
    "            if api_report_responses[\"data\"][\"list\"] == []:\n",
    "\n",
    "                api_report_responses[\"data\"][\"list\"] = [\n",
    "                    {\n",
    "                        \"Account_Name\": advertiser[\"name\"],\n",
    "                        \"Account_ID\": advertiser[\"advertiser_id\"],\n",
    "                        \"Clicks\": 0,\n",
    "                        \"Impression\": 0,\n",
    "                        \"Cost\": 0,\n",
    "                        \"Reach\": 0,\n",
    "                        \"CPC\": 0,\n",
    "                        \"CPM\": 0,\n",
    "                        \"CTR\": 0,\n",
    "                        \"Conversion\": 0,\n",
    "                        \"CPA\": 0,\n",
    "                    }\n",
    "                ]\n",
    "\n",
    "            api_report_response_results = api_report_responses[\"data\"][\"list\"]\n",
    "\n",
    "            df = pd.DataFrame(api_report_response_results)\n",
    "            df.rename(\n",
    "                columns={\"cost_per_result\": \"cost\", \"cost_per_conversion\": \"cpa\"},\n",
    "                inplace=True,\n",
    "            )\n",
    "            # df.to_csv(\"tiktok_business_report.csv\", index=False)\n",
    "df"
   ]
  }
 ],
 "metadata": {
  "kernelspec": {
   "display_name": "ads_manager",
   "language": "python",
   "name": "python3"
  },
  "language_info": {
   "codemirror_mode": {
    "name": "ipython",
    "version": 3
   },
   "file_extension": ".py",
   "mimetype": "text/x-python",
   "name": "python",
   "nbconvert_exporter": "python",
   "pygments_lexer": "ipython3",
   "version": "3.10.13"
  }
 },
 "nbformat": 4,
 "nbformat_minor": 2
}
